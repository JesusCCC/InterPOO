{
  "nbformat": 4,
  "nbformat_minor": 0,
  "metadata": {
    "colab": {
      "provenance": []
    },
    "kernelspec": {
      "name": "python3",
      "display_name": "Python 3"
    },
    "language_info": {
      "name": "python"
    }
  },
  "cells": [
    {
      "cell_type": "code",
      "execution_count": null,
      "metadata": {
        "id": "GExyi_zq3_Zl"
      },
      "outputs": [],
      "source": [
        "# Esto es un comentario\n",
        "print(\"Hola Mundo\")  # Esto imprime \"Hola Mundo\"\n",
        "\n",
        "\n",
        "\"\"\"\n",
        "fhdshfjdsf\n",
        "fhidhsihfsd\n",
        "ddhdhaia\n",
        "hdhd\n",
        "\"\"\""
      ]
    },
    {
      "cell_type": "code",
      "source": [
        "!ls -a\n"
      ],
      "metadata": {
        "id": "uVzb_HpG6ZCJ"
      },
      "execution_count": null,
      "outputs": []
    },
    {
      "cell_type": "code",
      "source": [
        "print(\"Hola\", \"Mundo\")\n",
        "\n",
        "print(\"Hola\" + \"Mundo\")\n",
        "\n",
        "print(\"Hola\", \"Mundo\", sep=\"-\")  # Imprime: Hola-Mundo\n",
        "\n",
        "print(\"Hola\", end=\"\")\n",
        "print(\"Mundo\")  # Imprime: HolaMundo"
      ],
      "metadata": {
        "id": "QLg2dDT57C34"
      },
      "execution_count": null,
      "outputs": []
    },
    {
      "cell_type": "code",
      "source": [
        "nombre = \"José\"\n",
        "carrera = \"ICO, la mejor\"\n",
        "print(\"Mi nombre es {1} y estudio {0} en la FES Aragón\".format(nombre, carrera))\n",
        "print(f\"Mi nombre es {nombre*2} y estudio {carrera} dentro de la FES\")"
      ],
      "metadata": {
        "id": "BToGDynZ7ohA"
      },
      "execution_count": null,
      "outputs": []
    },
    {
      "cell_type": "code",
      "source": [
        "# Operadores aritméticos\n",
        "suma = 5 + 3    # 8\n",
        "resta = 5 - 3   # 2\n",
        "producto = 5 * 3  # 15\n",
        "division = 5 / 3 # 1.66667\n",
        "division2 = 5 // 3 # 1\n",
        "módulo = 5 % 3 # 2\n",
        "potencia = 5 ** 3  # 125"
      ],
      "metadata": {
        "id": "il8vAvVl_Gmf"
      },
      "execution_count": null,
      "outputs": []
    },
    {
      "cell_type": "code",
      "source": [
        "potencia"
      ],
      "metadata": {
        "id": "95WLHI8Y_QIG"
      },
      "execution_count": null,
      "outputs": []
    },
    {
      "cell_type": "code",
      "source": [
        "# Operadores de comparación\n",
        "igual = 5 == 3 # Falso\n",
        "igual2 = 5 == 5 #True\n",
        "diferente = 5 != 3 # Verdadero\n",
        "mayor_que = 5 > 3 # Verdadero\n",
        "menor_que = 5 < 3 # Falso\n",
        "mayor_o_igual_que = 5 >= 3 # Verdadero\n",
        "menor_o_igual_que = 5 <= 3 # Falso"
      ],
      "metadata": {
        "id": "i5lHFyat_mQv"
      },
      "execution_count": null,
      "outputs": []
    },
    {
      "cell_type": "code",
      "source": [
        "diferente"
      ],
      "metadata": {
        "colab": {
          "base_uri": "https://localhost:8080/"
        },
        "id": "C0DEVPwM_pJz",
        "outputId": "a5fc471d-82e4-422b-9158-a3b9b1881290"
      },
      "execution_count": null,
      "outputs": [
        {
          "output_type": "execute_result",
          "data": {
            "text/plain": [
              "True"
            ]
          },
          "metadata": {},
          "execution_count": 25
        }
      ]
    },
    {
      "cell_type": "code",
      "source": [
        "# Operadores lógicos\n",
        "y = True and False # Falso\n",
        "o = True or False # Verdadero\n",
        "no = not True # false\n",
        "no2 = not False #True"
      ],
      "metadata": {
        "id": "Dgl_J6Mw_7O_"
      },
      "execution_count": null,
      "outputs": []
    },
    {
      "cell_type": "code",
      "source": [
        "False or (True and False)"
      ],
      "metadata": {
        "colab": {
          "base_uri": "https://localhost:8080/"
        },
        "id": "cZ4bRY60ARV_",
        "outputId": "dd26d110-18e3-4e2b-fc0e-76d29ea773a8"
      },
      "execution_count": null,
      "outputs": [
        {
          "output_type": "execute_result",
          "data": {
            "text/plain": [
              "False"
            ]
          },
          "metadata": {},
          "execution_count": 33
        }
      ]
    },
    {
      "cell_type": "code",
      "source": [
        "saludo = \"Hola Mundo\"\n",
        "cita = 'Los alumnos\\n de ICO\\t\\t \\'dicen\\': \"Hola Mundo\"'\n",
        "parrafo = \"\"\"Esto es un párrafo\n",
        "que abarca varias\n",
        "líneas\"\"\""
      ],
      "metadata": {
        "id": "RT5kuRDSAwUe"
      },
      "execution_count": null,
      "outputs": []
    },
    {
      "cell_type": "code",
      "source": [
        "print(cita)"
      ],
      "metadata": {
        "colab": {
          "base_uri": "https://localhost:8080/"
        },
        "id": "q12iZor6BG1B",
        "outputId": "ee58d948-7dcd-4b40-925d-e7efdab80a82"
      },
      "execution_count": null,
      "outputs": [
        {
          "output_type": "stream",
          "name": "stdout",
          "text": [
            "Los alumnos\n",
            " de ICO\t\t 'dicen': \"Hola Mundo\"\n"
          ]
        }
      ]
    },
    {
      "cell_type": "code",
      "source": [
        "def fn_uno():\n",
        "    print(\"Hola\")\n",
        "\n",
        "a, b, c = 10, \"Hola\", [2.3, 3.4]\n",
        "print(a)\n",
        "print(b)\n",
        "print(c)\n",
        "print(c[1])"
      ],
      "metadata": {
        "colab": {
          "base_uri": "https://localhost:8080/"
        },
        "id": "JHaVhVo4B6nf",
        "outputId": "d3b94d44-fd5a-484d-c76a-7eb532b0a2bf"
      },
      "execution_count": null,
      "outputs": [
        {
          "output_type": "stream",
          "name": "stdout",
          "text": [
            "10\n",
            "Hola\n",
            "[2.3, 3.4]\n",
            "3.4\n"
          ]
        }
      ]
    },
    {
      "cell_type": "code",
      "source": [
        "# entrada por teclado\n",
        "nombre = input(\"Por favor, introduce tu nombre: \")\n",
        "print(f\"Hola {nombre}!\")"
      ],
      "metadata": {
        "colab": {
          "base_uri": "https://localhost:8080/"
        },
        "id": "YU3JTm1XDC1v",
        "outputId": "c8724867-5775-4672-f17f-95243ae27c87"
      },
      "execution_count": null,
      "outputs": [
        {
          "output_type": "stream",
          "name": "stdout",
          "text": [
            "Por favor, introduce tu nombre: Jesus padrino\n",
            "Hola Jesus padrino!\n"
          ]
        }
      ]
    },
    {
      "cell_type": "code",
      "source": [
        "numero = int(20)\n",
        "print(numero)"
      ],
      "metadata": {
        "colab": {
          "base_uri": "https://localhost:8080/"
        },
        "id": "2gw4wrTHDa7g",
        "outputId": "2f2edbd5-5d5d-4fd0-8e65-feab5d0d437f"
      },
      "execution_count": null,
      "outputs": [
        {
          "output_type": "stream",
          "name": "stdout",
          "text": [
            "20\n"
          ]
        }
      ]
    },
    {
      "cell_type": "code",
      "source": [
        "edad = int(input(\"Introduce tu edad:\"))\n",
        "print(f\"{nombre} tiene {edad} años\")\n",
        "print(f\"{nombre} tiene {edad + 1} años\")"
      ],
      "metadata": {
        "colab": {
          "base_uri": "https://localhost:8080/"
        },
        "id": "VZFdcDg0DpPF",
        "outputId": "ae89f9ee-e50a-4e6c-b4b0-8a49574d32e7"
      },
      "execution_count": null,
      "outputs": [
        {
          "output_type": "stream",
          "name": "stdout",
          "text": [
            "Introduce tu edad:20\n",
            "Jesus padrino tiene 20 años\n",
            "Jesus padrino tiene 21 años\n"
          ]
        }
      ]
    },
    {
      "cell_type": "code",
      "source": [
        "#TIPOS DE DATOS\n",
        "\n",
        "mensaje = \"Hola Mundo\"  # String\n",
        "edad = 20 # Entero\n",
        "pi = 3.14159 # Float\n",
        "es_mayor = True # Boolean\n",
        "imaginario = 3 + 4j     # Imaginario"
      ],
      "metadata": {
        "id": "E6aeEXUAEBd_"
      },
      "execution_count": null,
      "outputs": []
    },
    {
      "cell_type": "code",
      "source": [
        "pi * 2.0\n"
      ],
      "metadata": {
        "colab": {
          "base_uri": "https://localhost:8080/"
        },
        "id": "PazluTbQEVMn",
        "outputId": "4fd6c196-a26c-45a2-ab68-8665ee29bf7d"
      },
      "execution_count": null,
      "outputs": [
        {
          "output_type": "execute_result",
          "data": {
            "text/plain": [
              "6.28318"
            ]
          },
          "metadata": {},
          "execution_count": 58
        }
      ]
    },
    {
      "cell_type": "code",
      "source": [
        "#LISTAS\n",
        "\n",
        "#       0.          1.          2.\n",
        "#       -3.          -2.          -1.\n",
        "frutas = ['limon', 'aguacate', 'fresa',]\n",
        "\n",
        "print(frutas[2])\n",
        "print(frutas[-1])"
      ],
      "metadata": {
        "colab": {
          "base_uri": "https://localhost:8080/"
        },
        "id": "-LlYUiRDEvx4",
        "outputId": "85e7a3d0-8270-4e6e-d4ee-3743e43c3cf3"
      },
      "execution_count": null,
      "outputs": [
        {
          "output_type": "stream",
          "name": "stdout",
          "text": [
            "fresa\n",
            "fresa\n"
          ]
        }
      ]
    },
    {
      "cell_type": "code",
      "source": [
        "cosas = ['limon', '10', '3.1416', True, [1,2,3,4], \"hola\"]\n",
        "print(cosas)"
      ],
      "metadata": {
        "colab": {
          "base_uri": "https://localhost:8080/"
        },
        "id": "otoptlrCFiXW",
        "outputId": "d17612d8-f0b4-4a35-8c24-55085a7f41de"
      },
      "execution_count": null,
      "outputs": [
        {
          "output_type": "stream",
          "name": "stdout",
          "text": [
            "['limon', '10', '3.1416', True, [1, 2, 3, 4], 'hola']\n"
          ]
        }
      ]
    },
    {
      "cell_type": "markdown",
      "source": [
        "# slicing en python\n",
        "\n",
        "[inicio : stop: step ]\n",
        "\n",
        "Es la posibilidad de obtener rebanadas a partir de un tipo de datos listas o tuplas, en general de un iterable. UN tipo de dato String es un iterale\n",
        "\n",
        "Por defecto\n",
        "inicio = 0\n",
        "\n",
        "stop es igual al tamaño de la variable\n",
        "\n",
        "step = 1"
      ],
      "metadata": {
        "id": "29Xi3G6ZGKdv"
      }
    },
    {
      "cell_type": "code",
      "source": [
        "ejemplo = [1,2,3,4,5,6, 'a', 'b', 'c', 'd', 'e',]\n",
        "print(ejemplo)"
      ],
      "metadata": {
        "colab": {
          "base_uri": "https://localhost:8080/"
        },
        "id": "YXwJk79xGfj4",
        "outputId": "b9821b2a-5393-46bd-bb0a-b759bfbd5838"
      },
      "execution_count": null,
      "outputs": [
        {
          "output_type": "stream",
          "name": "stdout",
          "text": [
            "[1, 2, 3, 4, 5, 6, 'a', 'b', 'c', 'd', 'e']\n"
          ]
        }
      ]
    },
    {
      "cell_type": "code",
      "source": [
        "#si no se indican los valores el sistema toma los valores por defecto\n",
        "rebanada = ejemplo[6:9:1]\n",
        "print(rebanada)"
      ],
      "metadata": {
        "colab": {
          "base_uri": "https://localhost:8080/"
        },
        "id": "icXI2xkKHFmF",
        "outputId": "6906a693-d71f-4e0a-ab76-1e4c751e42be"
      },
      "execution_count": null,
      "outputs": [
        {
          "output_type": "stream",
          "name": "stdout",
          "text": [
            "['a', 'b', 'c']\n"
          ]
        }
      ]
    },
    {
      "cell_type": "code",
      "source": [
        "#Duplas son con ()\n",
        "#listas son con []\n",
        "\n",
        "frutas_dos = ('Aguacate', 'Limon', 'Naranja',)\n",
        "\n",
        "print(frutas)\n",
        "print(frutas_dos)\n",
        "\n",
        "frutas[1] = 'Piña'\n",
        "#frutas_dos[1] = 'piña'\n",
        "\n",
        "print(frutas[1])\n",
        "print(frutas_dos[1])\n",
        "\n",
        "print(frutas_dos[1:2:1])\n",
        "print(frutas_dos[-1])"
      ],
      "metadata": {
        "colab": {
          "base_uri": "https://localhost:8080/"
        },
        "id": "M3-VphtOItuE",
        "outputId": "e28fd5c7-0251-4aa0-84d4-9ef55061d63c"
      },
      "execution_count": null,
      "outputs": [
        {
          "output_type": "stream",
          "name": "stdout",
          "text": [
            "['limon', 'Piña', 'fresa']\n",
            "('Aguacate', 'Limon', 'Naranja')\n",
            "Piña\n",
            "Limon\n",
            "('Limon',)\n",
            "Naranja\n"
          ]
        }
      ]
    },
    {
      "cell_type": "markdown",
      "source": [
        "# Diccionarios teoría\n",
        "\n",
        "1. Es un conjunto de pares llave valor\n",
        "1. Agrupados por ':'\n",
        "1. La llave siempre es de tipo String\n",
        "1. El valor puede ser de cualquier tipo\n",
        "1. El selector de la forma ['llave']\n",
        "1. mutable\n",
        "1. Se declara entre los caracteres '{' y '}'\n",
        "1. Los pares estab separados por comas ','"
      ],
      "metadata": {
        "id": "fbb811GSKFT4"
      }
    },
    {
      "cell_type": "code",
      "source": [
        "alumno = {'numero_cuenta' : 1232322, 'carrera': 'ICO',\n",
        "          'direccion': {'calle' : 'rancho seco', 'numero' : 23}\n",
        "\n",
        "          }\n",
        "print(alumno['direccion']['numero'])\n",
        "print(alumno['direccion']['calle'][3:6:1])"
      ],
      "metadata": {
        "colab": {
          "base_uri": "https://localhost:8080/"
        },
        "id": "wgPr3tHQKrvU",
        "outputId": "930023c0-b701-4a3f-c131-dd00a335af84"
      },
      "execution_count": null,
      "outputs": [
        {
          "output_type": "stream",
          "name": "stdout",
          "text": [
            "23\n",
            "cho\n"
          ]
        }
      ]
    }
  ]
}