{
  "nbformat": 4,
  "nbformat_minor": 0,
  "metadata": {
    "colab": {
      "provenance": []
    },
    "kernelspec": {
      "name": "python3",
      "display_name": "Python 3"
    },
    "language_info": {
      "name": "python"
    }
  },
  "cells": [
    {
      "cell_type": "code",
      "execution_count": null,
      "metadata": {
        "id": "l9TQZd3N8iOk"
      },
      "outputs": [],
      "source": [
        "alumno = {'numero_cuenta' : 1232322 , 'carrera' : 'ICO' ,\n",
        "            'direccion' : {'calle' : 'rancho seco', 'numero' : 23},\n",
        "            'telefonos' :['5566444455', '234324234']\n",
        "          }"
      ]
    },
    {
      "cell_type": "code",
      "source": [
        "print(alumno['direccion']['calle'][3:6:1])\n",
        "print(alumno['telefonos'])\n",
        "print(alumno)\n",
        "alumno['Facultad'] = 'FES Aragon'\n",
        "print(alumno)"
      ],
      "metadata": {
        "id": "Ov3m0bVk8_D-"
      },
      "execution_count": null,
      "outputs": []
    },
    {
      "cell_type": "code",
      "source": [
        "#if\n",
        "edad = 20\n",
        "if edad >= 18:\n",
        "    print(\"Eres mayor de edad.\")\n",
        "    print(\"Otra cosa\")\n",
        "    print(\"Algo mas\")"
      ],
      "metadata": {
        "id": "T0XgSXkd_Ph-"
      },
      "execution_count": null,
      "outputs": []
    },
    {
      "cell_type": "code",
      "source": [
        "# si-else\n",
        "\n",
        "edad = 15\n",
        "if edad >= 18:\n",
        "    print(\"Eres mayor de edad.\")\n",
        "    print(\"Otra cosa\")\n",
        "    print(\"Algo mas\")\n",
        "else:\n",
        "    print(\"Eres menor de edad.\")\n",
        "    print(\"Otra cosa\")\n",
        "    print(\"Algo mas\")"
      ],
      "metadata": {
        "id": "glZkx6PJ_TsA"
      },
      "execution_count": null,
      "outputs": []
    },
    {
      "cell_type": "code",
      "source": [
        "# if- elif - else\n",
        "edad = 20\n",
        "if edad < 13:\n",
        "    print(\"Eres un niño.\")\n",
        "elif edad < 18:\n",
        "    print(\"Eres un adolescente.\")\n",
        "else:\n",
        "    print(\"Eres un adulto.\")"
      ],
      "metadata": {
        "id": "MmPz1wvn_1iL"
      },
      "execution_count": null,
      "outputs": []
    },
    {
      "cell_type": "code",
      "source": [
        "# if-elif-elif\n",
        "edad = 20\n",
        "if edad < 13:\n",
        "    print(\"Eres un niño.\")\n",
        "elif edad < 18:\n",
        "    print(\"Eres un adolescente.\")\n",
        "elif edad < 30:\n",
        "    print(\"Eres un joven adulto.\")\n"
      ],
      "metadata": {
        "id": "-cqGlezoAVuU"
      },
      "execution_count": null,
      "outputs": []
    },
    {
      "cell_type": "code",
      "source": [
        "# For   for(int i = 1 ; i<10 ; i++)\n",
        "\n",
        "for i in range(1, 10, 1):\n",
        "    print(i)"
      ],
      "metadata": {
        "id": "gJ5Qb11XBXf2"
      },
      "execution_count": null,
      "outputs": []
    },
    {
      "cell_type": "code",
      "source": [
        "#For-each\n",
        "frutas = ['piña', 'pera', 'manzana', 'fresa', 'aguacate']\n",
        "for numero in frutas:\n",
        "    print(numero)\n",
        "\n",
        "\n",
        "print(\"--------\")\n",
        "\n",
        "for numero in frutas:\n",
        "    if numero == \"manzana\":\n",
        "        break # ó continuar\n",
        "    print(numero)  # imprime la fruta\n",
        "print(\"fin\")\n",
        "\n",
        "print(\"--------\")\n",
        "\n",
        "for numero in frutas:\n",
        "    if numero == \"manzana\":\n",
        "        continue # ó continuar\n",
        "    print(numero)  # imprime la fruta\n",
        "print(\"fin\")"
      ],
      "metadata": {
        "id": "RKHTDlwtCnPM"
      },
      "execution_count": null,
      "outputs": []
    },
    {
      "cell_type": "code",
      "source": [
        "tam = 0\n",
        "while tam < 10 :\n",
        "    print(tam)\n",
        "    tam = int(input(\"Dame un numero entero: \"))\n",
        "print(\"Final\")"
      ],
      "metadata": {
        "id": "RRTzmxGODfON"
      },
      "execution_count": null,
      "outputs": []
    }
  ]
}